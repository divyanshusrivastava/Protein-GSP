{
 "cells": [
  {
   "cell_type": "code",
   "execution_count": 15,
   "metadata": {},
   "outputs": [],
   "source": [
    "import pandas as pd\n",
    "import numpy as np\n",
    "import pickle as pk \n",
    "\n",
    "from Bio.PDB import *\n",
    "import os\n",
    "import numpy as np\n",
    "import collections\n",
    "\n",
    "from scipy.spatial import distance\n",
    "from pygsp import graphs, features\n",
    "import networkx as nx\n",
    "import matplotlib.pyplot as plt\n",
    "\n",
    "from sklearn.linear_model import LinearRegression\n",
    "from sklearn.model_selection import train_test_split\n",
    "\n",
    "\n",
    "from Bio import BiopythonWarning\n",
    "from Bio.PDB.PDBExceptions import PDBConstructionWarning\n",
    "import warnings\n",
    "with warnings.catch_warnings():\n",
    "    warnings.simplefilter('ignore', BiopythonWarning)\n",
    "    warnings.simplefilter('ignore', PDBConstructionWarning)"
   ]
  },
  {
   "cell_type": "code",
   "execution_count": 2,
   "metadata": {},
   "outputs": [],
   "source": [
    "amino_lookup = {'CYS': 'C', 'ASP': 'D', 'SER': 'S', 'GLN': 'Q', 'LYS': 'K',\n",
    "     'ILE': 'I', 'PRO': 'P', 'THR': 'T', 'PHE': 'F', 'ASN': 'N',\n",
    "     'GLY': 'G', 'HIS': 'H', 'LEU': 'L', 'ARG': 'R', 'TRP': 'W',\n",
    "     'ALA': 'A', 'VAL':'V', 'GLU': 'E', 'TYR': 'Y', 'MET': 'M'}\n",
    "amino_molecular_mass = {'A': 89.09404, 'R': 174.20274, 'N': 132.11904, 'D': 133.10384, 'C': 121.15404,\n",
    "                        'Q': 146.14594, 'E': 147.13074, 'G': 75.06714, 'H': 155.15634, 'I': 131.17464,\n",
    "                        'L': 131.17464, 'K': 146.18934, 'M': 149.20784, 'F': 165.19184, 'P': 115.13194,\n",
    "                        'S': 105.09344, 'T': 119.12034, 'W': 204.22844, 'Y': 181.19124, 'V': 117.14784}\n",
    "amino_hydrophobicity = {'A': 1.8, 'R': -4.5, 'N': -3.5, 'D': -3.5, 'C': 2.5,\n",
    "                        'Q': -3.5, 'E': -3.5, 'G': -0.4, 'H': -3.2, 'I': 4.5,\n",
    "                        'L': 3.8, 'K': -3.9, 'M': 1.9, 'F': 2.8, 'P': -1.6,\n",
    "                        'S': -0.8, 'T': -0.7, 'W': -0.9, 'Y': -1.3, 'V': 4.2}\n"
   ]
  },
  {
   "cell_type": "code",
   "execution_count": 3,
   "metadata": {},
   "outputs": [],
   "source": [
    "def crawl_pdb(path):\n",
    "    '''This funciton reads pdb files and stores there distance matrix and sequence'''\n",
    "    parser = PDBParser()\n",
    "    pdb_files = sorted(os.listdir(path))\n",
    "    pdbinfo_dict = dict()\n",
    "    for pdb in pdb_files:\n",
    "#         print (pdb)\n",
    "        info = dict()\n",
    "        info[id] = pdb\n",
    "        \n",
    "        info['distance_matrix'] = pd.read_csv(path + pdb + '/distance_matrix.csv', header=None).values\n",
    "        info['sequence'] = pk.load(open(path + pdb + '/sequence.p', 'rb'))\n",
    "        pdbinfo_dict[pdb] = info\n",
    "    return pdbinfo_dict\n",
    "\n",
    "\n",
    "def get_graph(distance_matrix, network_type, rig_cutoff=8, lin_cutoff=12):\n",
    "    distance_matrix[distance_matrix >= rig_cutoff] = 0\n",
    "    if network_type == 'rig-boolean':\n",
    "        distance_matrix[distance_matrix > 0] = 1\n",
    "    elif network_type == 'weighted-rig':\n",
    "        for i in range(np.shape(distance_matrix)[0]):\n",
    "            for j in range(np.shape(distance_matrix)[1]):\n",
    "                if distance_matrix[i, j] > 0:\n",
    "                    distance_matrix[i, j] = abs(j - i)\n",
    "    elif network_type == 'weighted-lin':\n",
    "        for i in range(np.shape(distance_matrix)[0]):\n",
    "            for j in range(np.shape(distance_matrix)[1]):\n",
    "                if distance_matrix[i, j] > 0:\n",
    "                    if abs(i - j) >= lin_cutoff or abs(i - j) == 1:\n",
    "                        distance_matrix[i, j] = abs(i - j)\n",
    "                    else:\n",
    "                        distance_matrix[i, j] = 0\n",
    "    elif network_type == 'lin':\n",
    "        for i in range(np.shape(distance_matrix)[0]):\n",
    "            for j in range(np.shape(distance_matrix)[1]):\n",
    "                if distance_matrix[i, j] > 0:\n",
    "                    if abs(i - j) >= lin_cutoff or abs(i - j) == 1:\n",
    "                        distance_matrix[i, j] = 1\n",
    "                    else:\n",
    "                        distance_matrix[i, j] = 0\n",
    "    else:\n",
    "        print('Invalid Choice! ' + network_type)\n",
    "        return None\n",
    "    G = graphs.Graph(distance_matrix, lap_type='normalized')\n",
    "    G.compute_fourier_basis()\n",
    "    return G\n",
    "\n",
    "\n",
    "def get_signal(G, seq, signal):\n",
    "    if signal == 'molecular_weight':\n",
    "        s = np.asarray([amino_molecular_mass[aa] for aa in seq])\n",
    "    elif signal == 'hydrophobicity':\n",
    "        s = np.asarray([amino_hydrophobicity[aa] for aa in seq])\n",
    "    elif signal == 'node_degree':\n",
    "        s = G.d\n",
    "    elif signal == 'node_weighted_degree':\n",
    "        adj = G.W.todense()\n",
    "        s = np.ravel(adj.sum(axis=0)) / 2\n",
    "    elif signal == 'avg_adj_degree':\n",
    "        s = features.compute_avg_adj_deg(G)\n",
    "        s = np.ravel(s)\n",
    "    elif signal == 'clustering_coeff':\n",
    "        N = nx.from_scipy_sparse_matrix(G.W)\n",
    "        s = nx.clustering(N)\n",
    "        s = np.asarray(list(s.values()))\n",
    "    elif signal == 'aaalpha_helix':\n",
    "        s = eng.aaalpha_helixfasman(seq)\n",
    "        s = np.array(s._data)\n",
    "    elif signal == 'residue_count':\n",
    "        residue_counts = collections.Counter(seq)\n",
    "        s = np.asarray([residue_counts[s] for s in seq])\n",
    "    else:\n",
    "        print ('Invalid Choice! ' + signal)\n",
    "    return s\n",
    "\n",
    "\n",
    "def get_filtered_signal(G, signal, cutoff):\n",
    "    signal_hat = G.gft(signal)\n",
    "    signal_filtered_hat = np.zeros_like(signal_hat)\n",
    "    signal_filtered_hat[G.e < G.lmax * cutoff] = signal_hat[G.e < G.lmax * cutoff]\n",
    "    signal_filtered = G.igft(signal_filtered_hat)\n",
    "    return signal_filtered"
   ]
  },
  {
   "cell_type": "code",
   "execution_count": 4,
   "metadata": {},
   "outputs": [],
   "source": [
    "path = '../data/regression_model/new_pdb/'\n",
    "pdbinfo_dict = crawl_pdb(path)"
   ]
  },
  {
   "cell_type": "code",
   "execution_count": 5,
   "metadata": {},
   "outputs": [
    {
     "data": {
      "text/plain": [
       "52"
      ]
     },
     "execution_count": 5,
     "metadata": {},
     "output_type": "execute_result"
    }
   ],
   "source": [
    "len(pdbinfo_dict)"
   ]
  },
  {
   "cell_type": "code",
   "execution_count": 6,
   "metadata": {},
   "outputs": [],
   "source": [
    "signals = ['molecular_weight', 'hydrophobicity', 'node_degree', 'node_weighted_degree', 'residue_count', 'clustering_coeff']"
   ]
  },
  {
   "cell_type": "raw",
   "metadata": {},
   "source": [
    "# signals_and_cutoffs = {'molecular_weight': 0.2, \n",
    "#                        'hydrophobicity': 0.27, \n",
    "#                        'node_degree': 0.17, \n",
    "#                        'node_weighted_degree': 0.17, \n",
    "#                        'residue_count': 0.22, \n",
    "#                        'clustering_coeff': 0.26}\n",
    "\n",
    "signals_and_cutoffs = {'molecular_weight': 0.5, \n",
    "                       'hydrophobicity': 0.5, \n",
    "                       'node_degree': 0.5, \n",
    "                       'node_weighted_degree': 0.5, \n",
    "                       'residue_count': 0.5, \n",
    "                       'clustering_coeff': 0.5}\n",
    "\n",
    "model = 'weighted-rig'\n",
    "\n",
    "# weights = {\n",
    "#     'Intercept': -29.2890, \n",
    "#     'hydrophobicity': 0.8628, \n",
    "#     'molecular_weight': 28.5785, \n",
    "#     'node_degree': 1.4607,\n",
    "#     'node_weighted_degree': 4.8021, \n",
    "#     'residue_count': -3.6958,\n",
    "#     'clustering_coeff': 11.1305\n",
    "#     }"
   ]
  },
  {
   "cell_type": "code",
   "execution_count": 17,
   "metadata": {},
   "outputs": [],
   "source": [
    "df = pd.read_csv('../data/regression_model/data_all_proteins.csv', index_col=0)\n",
    "lnkfs = df['Ln.K_f.']"
   ]
  },
  {
   "cell_type": "code",
   "execution_count": 20,
   "metadata": {},
   "outputs": [
    {
     "name": "stdout",
     "output_type": "stream",
     "text": [
      "0.35 : "
     ]
    },
    {
     "name": "stderr",
     "output_type": "stream",
     "text": [
      "/home/divyanshu/anaconda3/envs/gsp/lib/python3.8/site-packages/pygsp/graphs/graph.py:496: RuntimeWarning: divide by zero encountered in power\n",
      "  d = np.power(self.dw, -0.5)\n"
     ]
    },
    {
     "name": "stdout",
     "output_type": "stream",
     "text": [
      "0.2346730250628818\n",
      "0.36 : "
     ]
    },
    {
     "name": "stderr",
     "output_type": "stream",
     "text": [
      "/home/divyanshu/anaconda3/envs/gsp/lib/python3.8/site-packages/pygsp/graphs/graph.py:496: RuntimeWarning: divide by zero encountered in power\n",
      "  d = np.power(self.dw, -0.5)\n"
     ]
    },
    {
     "name": "stdout",
     "output_type": "stream",
     "text": [
      "0.24717574559232147\n",
      "0.37 : "
     ]
    },
    {
     "name": "stderr",
     "output_type": "stream",
     "text": [
      "/home/divyanshu/anaconda3/envs/gsp/lib/python3.8/site-packages/pygsp/graphs/graph.py:496: RuntimeWarning: divide by zero encountered in power\n",
      "  d = np.power(self.dw, -0.5)\n"
     ]
    },
    {
     "name": "stdout",
     "output_type": "stream",
     "text": [
      "0.23192826871652494\n",
      "0.38 : "
     ]
    },
    {
     "name": "stderr",
     "output_type": "stream",
     "text": [
      "/home/divyanshu/anaconda3/envs/gsp/lib/python3.8/site-packages/pygsp/graphs/graph.py:496: RuntimeWarning: divide by zero encountered in power\n",
      "  d = np.power(self.dw, -0.5)\n"
     ]
    },
    {
     "name": "stdout",
     "output_type": "stream",
     "text": [
      "0.21083544494128814\n",
      "0.39 : "
     ]
    },
    {
     "name": "stderr",
     "output_type": "stream",
     "text": [
      "/home/divyanshu/anaconda3/envs/gsp/lib/python3.8/site-packages/pygsp/graphs/graph.py:496: RuntimeWarning: divide by zero encountered in power\n",
      "  d = np.power(self.dw, -0.5)\n"
     ]
    },
    {
     "name": "stdout",
     "output_type": "stream",
     "text": [
      "0.24668958726495682\n",
      "0.4 : "
     ]
    },
    {
     "name": "stderr",
     "output_type": "stream",
     "text": [
      "/home/divyanshu/anaconda3/envs/gsp/lib/python3.8/site-packages/pygsp/graphs/graph.py:496: RuntimeWarning: divide by zero encountered in power\n",
      "  d = np.power(self.dw, -0.5)\n"
     ]
    },
    {
     "name": "stdout",
     "output_type": "stream",
     "text": [
      "0.2430776076992921\n",
      "0.41000000000000003 : "
     ]
    },
    {
     "name": "stderr",
     "output_type": "stream",
     "text": [
      "/home/divyanshu/anaconda3/envs/gsp/lib/python3.8/site-packages/pygsp/graphs/graph.py:496: RuntimeWarning: divide by zero encountered in power\n",
      "  d = np.power(self.dw, -0.5)\n"
     ]
    },
    {
     "name": "stdout",
     "output_type": "stream",
     "text": [
      "0.27521904008414333\n",
      "0.42000000000000004 : "
     ]
    },
    {
     "name": "stderr",
     "output_type": "stream",
     "text": [
      "/home/divyanshu/anaconda3/envs/gsp/lib/python3.8/site-packages/pygsp/graphs/graph.py:496: RuntimeWarning: divide by zero encountered in power\n",
      "  d = np.power(self.dw, -0.5)\n"
     ]
    },
    {
     "name": "stdout",
     "output_type": "stream",
     "text": [
      "0.2871828204776945\n",
      "0.43000000000000005 : "
     ]
    },
    {
     "name": "stderr",
     "output_type": "stream",
     "text": [
      "/home/divyanshu/anaconda3/envs/gsp/lib/python3.8/site-packages/pygsp/graphs/graph.py:496: RuntimeWarning: divide by zero encountered in power\n",
      "  d = np.power(self.dw, -0.5)\n"
     ]
    },
    {
     "name": "stdout",
     "output_type": "stream",
     "text": [
      "0.3194918825337717\n",
      "0.44000000000000006 : "
     ]
    },
    {
     "name": "stderr",
     "output_type": "stream",
     "text": [
      "/home/divyanshu/anaconda3/envs/gsp/lib/python3.8/site-packages/pygsp/graphs/graph.py:496: RuntimeWarning: divide by zero encountered in power\n",
      "  d = np.power(self.dw, -0.5)\n"
     ]
    },
    {
     "name": "stdout",
     "output_type": "stream",
     "text": [
      "0.30320440663085313\n",
      "0.45000000000000007 : "
     ]
    },
    {
     "name": "stderr",
     "output_type": "stream",
     "text": [
      "/home/divyanshu/anaconda3/envs/gsp/lib/python3.8/site-packages/pygsp/graphs/graph.py:496: RuntimeWarning: divide by zero encountered in power\n",
      "  d = np.power(self.dw, -0.5)\n"
     ]
    },
    {
     "name": "stdout",
     "output_type": "stream",
     "text": [
      "0.2763826753522568\n"
     ]
    }
   ],
   "source": [
    "lfc_cutoff = 0.42\n",
    "\n",
    "for lfc_cutoff in np.arange(0.35, 0.45, 0.01):\n",
    "    model = 'weighted-rig'\n",
    "    print (lfc_cutoff, end=' : ')\n",
    "    gsp_features = pd.DataFrame(columns=signals + ['class'])\n",
    "\n",
    "    for pdb in pdbinfo_dict.keys():\n",
    "    #         print (pdb, end=', ')\n",
    "        row = []\n",
    "        c = lnkfs[pdb.upper()]\n",
    "\n",
    "        G = get_graph(pdbinfo_dict[pdb]['distance_matrix'], network_type=model, rig_cutoff=7.3)\n",
    "        for signal_name in signals:\n",
    "            signal = get_signal(G, pdbinfo_dict[pdb]['sequence'], signal=signal_name)\n",
    "            gftsignal = G.gft(signal)\n",
    "            signal_hat = gftsignal\n",
    "            value = np.sum(abs(signal_hat[G.e < G.lmax*lfc_cutoff])) / np.sum(abs(signal_hat))\n",
    "            row.append(value)\n",
    "\n",
    "        row.append(c)\n",
    "        gsp_features.loc[pdb] = row\n",
    "\n",
    "    X = gsp_features[gsp_features.columns.difference(['class'])]\n",
    "    y = gsp_features['class']\n",
    "\n",
    "    lr = LinearRegression()\n",
    "    lr.fit(X, y)\n",
    "    print (lr.score(X, y))\n",
    "\n",
    "\n",
    "# X_train, X_test, y_train, y_test = train_test_split(X, y, test_size=0.4, random_state=0)\n",
    "\n",
    "# lr = LinearRegression()\n",
    "# lr.fit(X_train, y_train)\n",
    "# print (lr.score(X_test, y_test))"
   ]
  },
  {
   "cell_type": "code",
   "execution_count": null,
   "metadata": {},
   "outputs": [],
   "source": [
    "\n"
   ]
  }
 ],
 "metadata": {
  "kernelspec": {
   "display_name": "Python 3",
   "language": "python",
   "name": "python3"
  },
  "language_info": {
   "codemirror_mode": {
    "name": "ipython",
    "version": 3
   },
   "file_extension": ".py",
   "mimetype": "text/x-python",
   "name": "python",
   "nbconvert_exporter": "python",
   "pygments_lexer": "ipython3",
   "version": "3.8.2"
  }
 },
 "nbformat": 4,
 "nbformat_minor": 4
}
