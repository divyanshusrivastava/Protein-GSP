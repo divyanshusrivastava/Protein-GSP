{
 "cells": [
  {
   "cell_type": "markdown",
   "metadata": {},
   "source": [
    "# Amino Acid mutations simulation"
   ]
  },
  {
   "cell_type": "code",
   "execution_count": 1,
   "metadata": {},
   "outputs": [],
   "source": [
    "import pandas as pd\n",
    "import numpy as np\n",
    "\n",
    "from Bio.PDB import *\n",
    "import os\n",
    "import numpy as np\n",
    "import collections\n",
    "\n",
    "from scipy.spatial import distance\n",
    "from pygsp import graphs, features\n",
    "import networkx as nx\n",
    "import matplotlib.pyplot as plt\n",
    "\n",
    "from sklearn.linear_model import LinearRegression\n",
    "\n",
    "\n",
    "\n",
    "from Bio import BiopythonWarning\n",
    "from Bio.PDB.PDBExceptions import PDBConstructionWarning\n",
    "import warnings\n",
    "with warnings.catch_warnings():\n",
    "    warnings.simplefilter('ignore', BiopythonWarning)\n",
    "    warnings.simplefilter('ignore', PDBConstructionWarning)"
   ]
  },
  {
   "cell_type": "code",
   "execution_count": 2,
   "metadata": {},
   "outputs": [],
   "source": [
    "amino_lookup = {'CYS': 'C', 'ASP': 'D', 'SER': 'S', 'GLN': 'Q', 'LYS': 'K',\n",
    "     'ILE': 'I', 'PRO': 'P', 'THR': 'T', 'PHE': 'F', 'ASN': 'N',\n",
    "     'GLY': 'G', 'HIS': 'H', 'LEU': 'L', 'ARG': 'R', 'TRP': 'W',\n",
    "     'ALA': 'A', 'VAL':'V', 'GLU': 'E', 'TYR': 'Y', 'MET': 'M'}\n",
    "amino_molecular_mass = {'A': 89.09404, 'R': 174.20274, 'N': 132.11904, 'D': 133.10384, 'C': 121.15404,\n",
    "                        'Q': 146.14594, 'E': 147.13074, 'G': 75.06714, 'H': 155.15634, 'I': 131.17464,\n",
    "                        'L': 131.17464, 'K': 146.18934, 'M': 149.20784, 'F': 165.19184, 'P': 115.13194,\n",
    "                        'S': 105.09344, 'T': 119.12034, 'W': 204.22844, 'Y': 181.19124, 'V': 117.14784}\n",
    "amino_hydrophobicity = {'A': 1.8, 'R': -4.5, 'N': -3.5, 'D': -3.5, 'C': 2.5,\n",
    "                        'Q': -3.5, 'E': -3.5, 'G': -0.4, 'H': -3.2, 'I': 4.5,\n",
    "                        'L': 3.8, 'K': -3.9, 'M': 1.9, 'F': 2.8, 'P': -1.6,\n",
    "                        'S': -0.8, 'T': -0.7, 'W': -0.9, 'Y': -1.3, 'V': 4.2}"
   ]
  },
  {
   "cell_type": "code",
   "execution_count": 7,
   "metadata": {},
   "outputs": [],
   "source": [
    "def crawl_pdb(path):\n",
    "    '''This funciton reads pdb files and stores there distance matrix and sequence'''\n",
    "    parser = PDBParser()\n",
    "    pdb_files = sorted(os.listdir(path))\n",
    "    pdbinfo_dict = dict()\n",
    "    for pdb in pdb_files:\n",
    "        info = dict()\n",
    "        info[id] = pdb\n",
    "        structure = parser.get_structure('pdb_file', path + '/' + pdb)\n",
    "        coordinates = []\n",
    "        labels = list()\n",
    "        for model in structure:\n",
    "            for chain in model:\n",
    "                for residue in chain:\n",
    "                    try:\n",
    "                        assert residue.get_resname() not in ['HOH', ' CA']\n",
    "                        coordinates.append(residue['CA'].get_coord())\n",
    "                        labels.append(residue.get_resname())\n",
    "\n",
    "                    except :\n",
    "                        pass\n",
    "                break  ## working on chain id A only\n",
    "            break      ## Working on model id 0 only\n",
    "        coords = np.asmatrix(coordinates)\n",
    "        distance_matrix = distance.squareform(distance.pdist(coords))\n",
    "        info['coords'] = coords\n",
    "        info['distance_matrix'] = distance_matrix\n",
    "        info['sequence'] = ''.join([amino_lookup[s] for s in labels])\n",
    "        pdbinfo_dict[pdb] = info\n",
    "    return pdbinfo_dict\n",
    "\n",
    "\n",
    "def get_graph(distance_matrix, network_type, rig_cutoff=8, lin_cutoff=12):\n",
    "    distance_matrix[distance_matrix >= rig_cutoff] = 0\n",
    "    if network_type == 'rig-boolean':\n",
    "        distance_matrix[distance_matrix > 0] = 1\n",
    "    elif network_type == 'weighted-rig':\n",
    "        for i in range(np.shape(distance_matrix)[0]):\n",
    "            for j in range(np.shape(distance_matrix)[1]):\n",
    "                if distance_matrix[i, j] > 0:\n",
    "                    distance_matrix[i, j] = abs(j - i)\n",
    "    elif network_type == 'weighted-lin':\n",
    "        for i in range(np.shape(distance_matrix)[0]):\n",
    "            for j in range(np.shape(distance_matrix)[1]):\n",
    "                if distance_matrix[i, j] > 0:\n",
    "                    if abs(i - j) >= lin_cutoff or abs(i - j) == 1:\n",
    "                        distance_matrix[i, j] = abs(i - j)\n",
    "                    else:\n",
    "                        distance_matrix[i, j] = 0\n",
    "    elif network_type == 'lin':\n",
    "        for i in range(np.shape(distance_matrix)[0]):\n",
    "            for j in range(np.shape(distance_matrix)[1]):\n",
    "                if distance_matrix[i, j] > 0:\n",
    "                    if abs(i - j) >= lin_cutoff or abs(i - j) == 1:\n",
    "                        distance_matrix[i, j] = 1\n",
    "                    else:\n",
    "                        distance_matrix[i, j] = 0\n",
    "    else:\n",
    "        print('Invalid Choice! ' + network_type)\n",
    "        return None\n",
    "    G = graphs.Graph(distance_matrix, lap_type='normalized')\n",
    "    G.compute_fourier_basis()\n",
    "    return G\n",
    "\n",
    "\n",
    "def get_signal(G, seq, signal):\n",
    "    if signal == 'molecular_weight':\n",
    "        s = np.asarray([amino_molecular_mass[aa] for aa in seq])\n",
    "    elif signal == 'hydrophobicity':\n",
    "        s = np.asarray([amino_hydrophobicity[aa] for aa in seq])\n",
    "    elif signal == 'node_degree':\n",
    "        s = G.d\n",
    "    elif signal == 'node_weighted_degree':\n",
    "        adj = G.W.todense()\n",
    "        s = np.ravel(adj.sum(axis=0)) / 2\n",
    "    elif signal == 'avg_adj_degree':\n",
    "        s = features.compute_avg_adj_deg(G)\n",
    "        s = np.ravel(s)\n",
    "    elif signal == 'clustering_coeff':\n",
    "        N = nx.from_scipy_sparse_matrix(G.W)\n",
    "        s = nx.clustering(N)\n",
    "        s = np.asarray(list(s.values()))\n",
    "    elif signal == 'aaalpha_helix':\n",
    "        s = eng.aaalpha_helixfasman(seq)\n",
    "        s = np.array(s._data)\n",
    "    elif signal == 'residue_count':\n",
    "        residue_counts = collections.Counter(seq)\n",
    "        s = np.asarray([residue_counts[s] for s in seq])\n",
    "    elif signal == 'centrality':\n",
    "        N = nx.from_scipy_sparse_matrix(G.W)\n",
    "        s = list(nx.betweenness_centrality(N).values())\n",
    "        s = np.array(s)\n",
    "    elif signal == 'page_rank':\n",
    "        N = nx.from_scipy_sparse_matrix(G.W)\n",
    "        s = list(nx.algorithms.link_analysis.pagerank(N).values())\n",
    "        s = np.array(s)\n",
    "    else:\n",
    "        print ('Invalid Choice! ' + signal)\n",
    "    return s\n",
    "\n",
    "\n",
    "def get_filtered_signal(G, signal, cutoff):\n",
    "    signal_hat = G.gft(signal)\n",
    "    signal_filtered_hat = np.zeros_like(signal_hat)\n",
    "    signal_filtered_hat[G.e < G.lmax * cutoff] = signal_hat[G.e < G.lmax * cutoff]\n",
    "    signal_filtered = G.igft(signal_filtered_hat)\n",
    "    return signal_filtered"
   ]
  },
  {
   "cell_type": "code",
   "execution_count": 10,
   "metadata": {},
   "outputs": [],
   "source": [
    "signals = ['molecular_weight', 'hydrophobicity', 'node_degree', 'node_weighted_degree', \n",
    "           'residue_count', 'clustering_coeff', 'centrality', 'page_rank']"
   ]
  },
  {
   "cell_type": "markdown",
   "metadata": {},
   "source": [
    "## Original Sequence"
   ]
  },
  {
   "cell_type": "code",
   "execution_count": 13,
   "metadata": {},
   "outputs": [
    {
     "name": "stdout",
     "output_type": "stream",
     "text": [
      "0.42 : "
     ]
    },
    {
     "name": "stderr",
     "output_type": "stream",
     "text": [
      "/home/divyanshu/anaconda3/envs/gsp/lib/python3.8/site-packages/pygsp/graphs/graph.py:496: RuntimeWarning: divide by zero encountered in power\n",
      "  d = np.power(self.dw, -0.5)\n"
     ]
    },
    {
     "ename": "AssertionError",
     "evalue": "",
     "output_type": "error",
     "traceback": [
      "\u001b[0;31m---------------------------------------------------------------------------\u001b[0m",
      "\u001b[0;31mAssertionError\u001b[0m                            Traceback (most recent call last)",
      "\u001b[0;32m<ipython-input-13-e5c9f93540e4>\u001b[0m in \u001b[0;36m<module>\u001b[0;34m\u001b[0m\n\u001b[1;32m     14\u001b[0m     \u001b[0;32melif\u001b[0m \u001b[0mpdb\u001b[0m\u001b[0;34m.\u001b[0m\u001b[0mstartswith\u001b[0m\u001b[0;34m(\u001b[0m\u001b[0;34m'B_'\u001b[0m\u001b[0;34m)\u001b[0m\u001b[0;34m:\u001b[0m \u001b[0mc\u001b[0m \u001b[0;34m=\u001b[0m \u001b[0;34m-\u001b[0m\u001b[0;36m1\u001b[0m\u001b[0;34m\u001b[0m\u001b[0;34m\u001b[0m\u001b[0m\n\u001b[1;32m     15\u001b[0m     \u001b[0;32melse\u001b[0m\u001b[0;34m:\u001b[0m \u001b[0mc\u001b[0m \u001b[0;34m=\u001b[0m \u001b[0;36m0\u001b[0m\u001b[0;34m\u001b[0m\u001b[0;34m\u001b[0m\u001b[0m\n\u001b[0;32m---> 16\u001b[0;31m     \u001b[0mG\u001b[0m \u001b[0;34m=\u001b[0m \u001b[0mget_graph\u001b[0m\u001b[0;34m(\u001b[0m\u001b[0mpdbinfo_dict\u001b[0m\u001b[0;34m[\u001b[0m\u001b[0mpdb\u001b[0m\u001b[0;34m]\u001b[0m\u001b[0;34m[\u001b[0m\u001b[0;34m'distance_matrix'\u001b[0m\u001b[0;34m]\u001b[0m\u001b[0;34m,\u001b[0m \u001b[0mnetwork_type\u001b[0m\u001b[0;34m=\u001b[0m\u001b[0mmodel\u001b[0m\u001b[0;34m,\u001b[0m \u001b[0mrig_cutoff\u001b[0m\u001b[0;34m=\u001b[0m\u001b[0;36m7.3\u001b[0m\u001b[0;34m)\u001b[0m\u001b[0;34m\u001b[0m\u001b[0;34m\u001b[0m\u001b[0m\n\u001b[0m\u001b[1;32m     17\u001b[0m     \u001b[0;32mfor\u001b[0m \u001b[0msignal_name\u001b[0m \u001b[0;32min\u001b[0m \u001b[0msignals\u001b[0m\u001b[0;34m:\u001b[0m\u001b[0;34m\u001b[0m\u001b[0;34m\u001b[0m\u001b[0m\n\u001b[1;32m     18\u001b[0m         \u001b[0msignal\u001b[0m \u001b[0;34m=\u001b[0m \u001b[0mget_signal\u001b[0m\u001b[0;34m(\u001b[0m\u001b[0mG\u001b[0m\u001b[0;34m,\u001b[0m \u001b[0mpdbinfo_dict\u001b[0m\u001b[0;34m[\u001b[0m\u001b[0mpdb\u001b[0m\u001b[0;34m]\u001b[0m\u001b[0;34m[\u001b[0m\u001b[0;34m'sequence'\u001b[0m\u001b[0;34m]\u001b[0m\u001b[0;34m,\u001b[0m \u001b[0msignal\u001b[0m\u001b[0;34m=\u001b[0m\u001b[0msignal_name\u001b[0m\u001b[0;34m)\u001b[0m\u001b[0;34m\u001b[0m\u001b[0;34m\u001b[0m\u001b[0m\n",
      "\u001b[0;32m<ipython-input-7-2c8cb2acdf4e>\u001b[0m in \u001b[0;36mget_graph\u001b[0;34m(distance_matrix, network_type, rig_cutoff, lin_cutoff)\u001b[0m\n\u001b[1;32m     60\u001b[0m         \u001b[0;32mreturn\u001b[0m \u001b[0;32mNone\u001b[0m\u001b[0;34m\u001b[0m\u001b[0;34m\u001b[0m\u001b[0m\n\u001b[1;32m     61\u001b[0m     \u001b[0mG\u001b[0m \u001b[0;34m=\u001b[0m \u001b[0mgraphs\u001b[0m\u001b[0;34m.\u001b[0m\u001b[0mGraph\u001b[0m\u001b[0;34m(\u001b[0m\u001b[0mdistance_matrix\u001b[0m\u001b[0;34m,\u001b[0m \u001b[0mlap_type\u001b[0m\u001b[0;34m=\u001b[0m\u001b[0;34m'normalized'\u001b[0m\u001b[0;34m)\u001b[0m\u001b[0;34m\u001b[0m\u001b[0;34m\u001b[0m\u001b[0m\n\u001b[0;32m---> 62\u001b[0;31m     \u001b[0mG\u001b[0m\u001b[0;34m.\u001b[0m\u001b[0mcompute_fourier_basis\u001b[0m\u001b[0;34m(\u001b[0m\u001b[0;34m)\u001b[0m\u001b[0;34m\u001b[0m\u001b[0;34m\u001b[0m\u001b[0m\n\u001b[0m\u001b[1;32m     63\u001b[0m     \u001b[0;32mreturn\u001b[0m \u001b[0mG\u001b[0m\u001b[0;34m\u001b[0m\u001b[0;34m\u001b[0m\u001b[0m\n\u001b[1;32m     64\u001b[0m \u001b[0;34m\u001b[0m\u001b[0m\n",
      "\u001b[0;32m~/anaconda3/envs/gsp/lib/python3.8/site-packages/pygsp/graphs/fourier.py\u001b[0m in \u001b[0;36mcompute_fourier_basis\u001b[0;34m(self, recompute)\u001b[0m\n\u001b[1;32m    107\u001b[0m         \u001b[0;31m# Eigensolver might sometimes return small negative values, which\u001b[0m\u001b[0;34m\u001b[0m\u001b[0;34m\u001b[0m\u001b[0;34m\u001b[0m\u001b[0m\n\u001b[1;32m    108\u001b[0m         \u001b[0;31m# filter's implementations may not anticipate. Better for plotting too.\u001b[0m\u001b[0;34m\u001b[0m\u001b[0;34m\u001b[0m\u001b[0;34m\u001b[0m\u001b[0m\n\u001b[0;32m--> 109\u001b[0;31m         \u001b[0;32massert\u001b[0m \u001b[0;34m-\u001b[0m\u001b[0;36m1e-12\u001b[0m \u001b[0;34m<\u001b[0m \u001b[0mself\u001b[0m\u001b[0;34m.\u001b[0m\u001b[0m_e\u001b[0m\u001b[0;34m[\u001b[0m\u001b[0;36m0\u001b[0m\u001b[0;34m]\u001b[0m \u001b[0;34m<\u001b[0m \u001b[0;36m1e-12\u001b[0m\u001b[0;34m\u001b[0m\u001b[0;34m\u001b[0m\u001b[0m\n\u001b[0m\u001b[1;32m    110\u001b[0m         \u001b[0mself\u001b[0m\u001b[0;34m.\u001b[0m\u001b[0m_e\u001b[0m\u001b[0;34m[\u001b[0m\u001b[0;36m0\u001b[0m\u001b[0;34m]\u001b[0m \u001b[0;34m=\u001b[0m \u001b[0;36m0\u001b[0m\u001b[0;34m\u001b[0m\u001b[0;34m\u001b[0m\u001b[0m\n\u001b[1;32m    111\u001b[0m \u001b[0;34m\u001b[0m\u001b[0m\n",
      "\u001b[0;31mAssertionError\u001b[0m: "
     ]
    }
   ],
   "source": [
    "original_protein = '../data/regression_model/new_pdb/1tit'\n",
    "\n",
    "pdbinfo_dict = crawl_pdb(original_protein)\n",
    "\n",
    "lfc_cutoff = 0.42\n",
    "model = 'weighted-rig'\n",
    "print (lfc_cutoff, end=' : ')\n",
    "gsp_features = pd.DataFrame(columns=signals + ['class'])\n",
    "\n",
    "for pdb in pdbinfo_dict.keys():\n",
    "#         print (pdb, end=', ')\n",
    "    row = []\n",
    "    if pdb.startswith('A_'): c = 1\n",
    "    elif pdb.startswith('B_'): c = -1\n",
    "    else: c = 0\n",
    "    G = get_graph(pdbinfo_dict[pdb]['distance_matrix'], network_type=model, rig_cutoff=7.3)\n",
    "    for signal_name in signals:\n",
    "        signal = get_signal(G, pdbinfo_dict[pdb]['sequence'], signal=signal_name)\n",
    "        gftsignal = G.gft(signal)\n",
    "        signal_hat = gftsignal\n",
    "        value = np.sum(abs(signal_hat[G.e < G.lmax*lfc_cutoff])) / np.sum(abs(signal_hat))\n",
    "        row.append(value)\n",
    "\n",
    "    row.append(c)\n",
    "    gsp_features.loc[pdb] = row\n",
    "\n",
    "X = gsp_features[gsp_features.columns.difference(['class'])]\n",
    "y = gsp_features['class']\n",
    "\n",
    "lr = LinearRegression()\n",
    "lr.fit(X, y)\n",
    "print (lr.score(X, y))"
   ]
  },
  {
   "cell_type": "code",
   "execution_count": null,
   "metadata": {},
   "outputs": [],
   "source": []
  },
  {
   "cell_type": "code",
   "execution_count": null,
   "metadata": {},
   "outputs": [],
   "source": []
  }
 ],
 "metadata": {
  "kernelspec": {
   "display_name": "Python 3",
   "language": "python",
   "name": "python3"
  },
  "language_info": {
   "codemirror_mode": {
    "name": "ipython",
    "version": 3
   },
   "file_extension": ".py",
   "mimetype": "text/x-python",
   "name": "python",
   "nbconvert_exporter": "python",
   "pygments_lexer": "ipython3",
   "version": "3.8.2"
  }
 },
 "nbformat": 4,
 "nbformat_minor": 4
}
