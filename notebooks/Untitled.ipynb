{
 "cells": [
  {
   "cell_type": "code",
   "execution_count": 10,
   "id": "668dadab",
   "metadata": {},
   "outputs": [],
   "source": [
    "import matplotlib.pyplot as plt\n",
    "import seaborn as sns\n",
    "\n",
    "import numpy as np"
   ]
  },
  {
   "cell_type": "code",
   "execution_count": 28,
   "id": "b863e6b3",
   "metadata": {},
   "outputs": [],
   "source": [
    "cv_scores = []\n",
    "headings = []"
   ]
  },
  {
   "cell_type": "code",
   "execution_count": 29,
   "id": "510ac2d7",
   "metadata": {},
   "outputs": [],
   "source": [
    "headings.append('Folding Rate')\n",
    "cv_scores.append(np.array([0.446631366, 0.516340344, 0.570094062, 0.565332574, 0.624347408]))"
   ]
  },
  {
   "cell_type": "code",
   "execution_count": 30,
   "id": "b6cf59fd",
   "metadata": {},
   "outputs": [],
   "source": [
    "headings.append('Alpha vs Beta')\n",
    "cv_scores.append(np.array([2.13397524e-01, 8.29545741e-01, 1.47718465e+00, 3.17996795e-01, 3.73447022e-01, 1.02578942e-01, 1.38647987e+00, 1.34123270e+00, 1.13576363e-04, 2.59680521e-02]))"
   ]
  },
  {
   "cell_type": "code",
   "execution_count": 31,
   "id": "0652649e",
   "metadata": {},
   "outputs": [],
   "source": [
    "headings.append('Transmembrane vs Globular')\n",
    "cv_scores.append(np.array([0.7, 0.9, 0.6, 0.9, 1. , 0.5, 0.8, 0.8, 1. , 0.8]))"
   ]
  },
  {
   "cell_type": "code",
   "execution_count": 32,
   "id": "2a217c9e",
   "metadata": {},
   "outputs": [
    {
     "data": {
      "text/plain": [
       "['Folding Rate', 'Alpha vs Beta', 'Transmembrane vs Globular']"
      ]
     },
     "execution_count": 32,
     "metadata": {},
     "output_type": "execute_result"
    }
   ],
   "source": [
    "headings"
   ]
  },
  {
   "cell_type": "code",
   "execution_count": 33,
   "id": "d73e18cd",
   "metadata": {},
   "outputs": [
    {
     "data": {
      "text/plain": [
       "[array([0.44663137, 0.51634034, 0.57009406, 0.56533257, 0.62434741]),\n",
       " array([2.13397524e-01, 8.29545741e-01, 1.47718465e+00, 3.17996795e-01,\n",
       "        3.73447022e-01, 1.02578942e-01, 1.38647987e+00, 1.34123270e+00,\n",
       "        1.13576363e-04, 2.59680521e-02]),\n",
       " array([0.7, 0.9, 0.6, 0.9, 1. , 0.5, 0.8, 0.8, 1. , 0.8])]"
      ]
     },
     "execution_count": 33,
     "metadata": {},
     "output_type": "execute_result"
    }
   ],
   "source": [
    "cv_scores"
   ]
  },
  {
   "cell_type": "code",
   "execution_count": 43,
   "id": "5550d731",
   "metadata": {},
   "outputs": [
    {
     "name": "stderr",
     "output_type": "stream",
     "text": [
      "/var/folders/16/_t_c8chd6vgc4dzy3l1fm5m00000gp/T/ipykernel_9153/3206118945.py:2: VisibleDeprecationWarning: Creating an ndarray from ragged nested sequences (which is a list-or-tuple of lists-or-tuples-or ndarrays with different lengths or shapes) is deprecated. If you meant to do this, you must specify 'dtype=object' when creating the ndarray.\n",
      "  x = sns.barplot(data=np.array(cv_scores))\n"
     ]
    },
    {
     "data": {
      "image/png": "[encoded data removed]",
      "text/plain": [
       "<Figure size 288x360 with 1 Axes>"
      ]
     },
     "metadata": {
      "needs_background": "light"
     },
     "output_type": "display_data"
    }
   ],
   "source": [
    "plt.figure(figsize=(4, 5))\n",
    "x = sns.barplot(data=np.array(cv_scores))\n",
    "x.set_xlabel('Model')\n",
    "x.set_xticklabels(headings)\n",
    "t = plt.setp(x.get_xticklabels(), ha=\"right\", rotation=45)\n",
    "x.set_ylabel('Cross validation scores')\n",
    "sns.despine()"
   ]
  },
  {
   "cell_type": "code",
   "execution_count": 24,
   "id": "6f70a888",
   "metadata": {},
   "outputs": [],
   "source": [
    "?sns.barplot"
   ]
  },
  {
   "cell_type": "code",
   "execution_count": null,
   "id": "9130f87e",
   "metadata": {},
   "outputs": [],
   "source": []
  }
 ],
 "metadata": {
  "kernelspec": {
   "display_name": "Python 3 (ipykernel)",
   "language": "python",
   "name": "python3"
  },
  "language_info": {
   "codemirror_mode": {
    "name": "ipython",
    "version": 3
   },
   "file_extension": ".py",
   "mimetype": "text/x-python",
   "name": "python",
   "nbconvert_exporter": "python",
   "pygments_lexer": "ipython3",
   "version": "3.9.7"
  }
 },
 "nbformat": 4,
 "nbformat_minor": 5
}
