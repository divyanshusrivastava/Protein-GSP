{
 "cells": [
  {
   "cell_type": "markdown",
   "metadata": {},
   "source": [
    "## List of features (signals)\n",
    "* hydrophobicity\n",
    "* molecular weight\n",
    "* node degree\n",
    "* node clustering coefficient\n",
    "* amino acid frequency"
   ]
  },
  {
   "cell_type": "code",
   "execution_count": 29,
   "metadata": {},
   "outputs": [],
   "source": [
    "import os\n",
    "import numpy as np\n",
    "from pygsp import graphs\n",
    "import pickle\n",
    "import csv\n",
    "import collections\n",
    "import networkx as nx\n",
    "import matplotlib.pyplot as plt"
   ]
  },
  {
   "cell_type": "code",
   "execution_count": 30,
   "metadata": {},
   "outputs": [],
   "source": [
    "amino_hydrophobicity =  {'A': 1.8,'R':-4.5,'N':-3.5,'D':-3.5,'C': 2.5,\n",
    "       'Q':-3.5,'E':-3.5,'G':-0.4,'H':-3.2,'I': 4.5,\n",
    "       'L': 3.8,'K':-3.9,'M': 1.9,'F': 2.8,'P':-1.6,\n",
    "       'S':-0.8,'T':-0.7,'W':-0.9,'Y':-1.3,'V': 4.2 }\n",
    "amino_molecular_mass =  {'A': 89.09404,'R':174.20274,'N':132.11904,'D':133.10384,'C':121.15404 ,\n",
    "       'Q':146.14594,'E':147.13074,'G':75.06714,'H':155.15634,'I':131.17464,\n",
    "       'L':131.17464,'K':146.18934,'M':149.20784,'F':165.19184,'P':115.13194,\n",
    "       'S':105.09344,'T':119.12034,'W':204.22844,'Y':181.19124,'V':117.14784}\n",
    "reader = csv.DictReader(open('../data/protein_data.csv', 'r'))\n",
    "lnkf_values = dict()\n",
    "for line in reader:\n",
    "    lnkf_values[line['PDB ID']] = line['Ln (K_f)']  "
   ]
  },
  {
   "cell_type": "code",
   "execution_count": 31,
   "metadata": {},
   "outputs": [
    {
     "name": "stdout",
     "output_type": "stream",
     "text": [
      "1aey, 1aps, 1aye, 1bdd, 1brs, 1c8c, 1c9o, 1cis, 1coa, 1csp, 1div, 1ebd, 1enh, 1fkb, 1g6p, 1hdn, 1hrc, 1hz6, 1imq, 1lmb, 1lop, 1mjc, 1nyf, 1pba, 1pca, 1pgb, 1pin, 1pks, 1pnj, 1poh, 1ris, 1shf, 1shg, 1srl, 1ten, 1tit, 1ubq, 1urn, 1vii, 1vik, 1wit, 1ycc, 256b, 2abd, 2acy, 2ait, 2ci2, 2hqi, 2pdd, 2ptl, 2vik, 3mef, "
     ]
    }
   ],
   "source": [
    "distance_cutoff = 7.3\n",
    "# distance_cutoff = 8\n",
    "folders = sorted(os.listdir('../data/regression_model/new_pdb/'))\n",
    "\n",
    "G_dict = dict()\n",
    "NX_dict = dict()\n",
    "\n",
    "for index, folder in enumerate(folders):\n",
    "    print (folder, end=', ')\n",
    "    n = np.asmatrix(np.loadtxt('../data/regression_model/new_pdb/' + folder + '/distance_matrix.csv', delimiter=','))\n",
    "    n[n >= distance_cutoff] = 0\n",
    "\n",
    "    # taking |j-i| as weights\n",
    "    for i in range(np.shape(n)[0]):\n",
    "        for j in range(np.shape(n)[1]):\n",
    "            if n[i,j] > 0:\n",
    "                n[i,j] = abs(j-i)\n",
    "    \n",
    "    G = graphs.Graph(n)\n",
    "    G.compute_fourier_basis()\n",
    "    \n",
    "    G_dict[folder] = G\n",
    "    NX_dict[folder] = nx.Graph(n)\n"
   ]
  },
  {
   "cell_type": "code",
   "execution_count": 33,
   "metadata": {},
   "outputs": [
    {
     "ename": "IndexError",
     "evalue": "tuple index out of range",
     "output_type": "error",
     "traceback": [
      "\u001b[0;31m---------------------------------------------------------------------------\u001b[0m",
      "\u001b[0;31mIndexError\u001b[0m                                Traceback (most recent call last)",
      "\u001b[0;32m<ipython-input-33-ccbb84f6120a>\u001b[0m in \u001b[0;36m<module>\u001b[0;34m\u001b[0m\n\u001b[1;32m     19\u001b[0m         \u001b[0msignal\u001b[0m \u001b[0;34m=\u001b[0m \u001b[0mnx\u001b[0m\u001b[0;34m.\u001b[0m\u001b[0mclustering\u001b[0m\u001b[0;34m(\u001b[0m\u001b[0mNX\u001b[0m\u001b[0;34m)\u001b[0m\u001b[0;34m.\u001b[0m\u001b[0mvalues\u001b[0m\u001b[0;34m(\u001b[0m\u001b[0;34m)\u001b[0m\u001b[0;34m\u001b[0m\u001b[0;34m\u001b[0m\u001b[0m\n\u001b[1;32m     20\u001b[0m         \u001b[0msignal\u001b[0m \u001b[0;34m=\u001b[0m \u001b[0mnp\u001b[0m\u001b[0;34m.\u001b[0m\u001b[0marray\u001b[0m\u001b[0;34m(\u001b[0m\u001b[0msignal\u001b[0m\u001b[0;34m)\u001b[0m\u001b[0;34m\u001b[0m\u001b[0;34m\u001b[0m\u001b[0m\n\u001b[0;32m---> 21\u001b[0;31m         \u001b[0msignal_hat\u001b[0m \u001b[0;34m=\u001b[0m \u001b[0mG\u001b[0m\u001b[0;34m.\u001b[0m\u001b[0mgft\u001b[0m\u001b[0;34m(\u001b[0m\u001b[0msignal\u001b[0m\u001b[0;34m)\u001b[0m\u001b[0;34m\u001b[0m\u001b[0;34m\u001b[0m\u001b[0m\n\u001b[0m\u001b[1;32m     22\u001b[0m         \u001b[0mlfc\u001b[0m\u001b[0;34m[\u001b[0m\u001b[0mindex\u001b[0m\u001b[0;34m]\u001b[0m \u001b[0;34m=\u001b[0m \u001b[0mnp\u001b[0m\u001b[0;34m.\u001b[0m\u001b[0msum\u001b[0m\u001b[0;34m(\u001b[0m\u001b[0mabs\u001b[0m\u001b[0;34m(\u001b[0m\u001b[0msignal_hat\u001b[0m\u001b[0;34m[\u001b[0m\u001b[0mG\u001b[0m\u001b[0;34m.\u001b[0m\u001b[0me\u001b[0m \u001b[0;34m<\u001b[0m \u001b[0mG\u001b[0m\u001b[0;34m.\u001b[0m\u001b[0mlmax\u001b[0m\u001b[0;34m*\u001b[0m\u001b[0mlfc_cutoff\u001b[0m\u001b[0;34m]\u001b[0m\u001b[0;34m)\u001b[0m\u001b[0;34m)\u001b[0m \u001b[0;34m/\u001b[0m \u001b[0mnp\u001b[0m\u001b[0;34m.\u001b[0m\u001b[0msum\u001b[0m\u001b[0;34m(\u001b[0m\u001b[0mabs\u001b[0m\u001b[0;34m(\u001b[0m\u001b[0msignal_hat\u001b[0m\u001b[0;34m)\u001b[0m\u001b[0;34m)\u001b[0m\u001b[0;34m\u001b[0m\u001b[0;34m\u001b[0m\u001b[0m\n\u001b[1;32m     23\u001b[0m \u001b[0;31m#         lnkf[index] = lnkf_values[folder.upper()]\u001b[0m\u001b[0;34m\u001b[0m\u001b[0;34m\u001b[0m\u001b[0;34m\u001b[0m\u001b[0m\n",
      "\u001b[0;32m~/anaconda3/envs/gsp/lib/python3.8/site-packages/pygsp/graphs/fourier.py\u001b[0m in \u001b[0;36mgft\u001b[0;34m(self, s)\u001b[0m\n\u001b[1;32m    149\u001b[0m \u001b[0;34m\u001b[0m\u001b[0m\n\u001b[1;32m    150\u001b[0m         \"\"\"\n\u001b[0;32m--> 151\u001b[0;31m         \u001b[0;32mif\u001b[0m \u001b[0ms\u001b[0m\u001b[0;34m.\u001b[0m\u001b[0mshape\u001b[0m\u001b[0;34m[\u001b[0m\u001b[0;36m0\u001b[0m\u001b[0;34m]\u001b[0m \u001b[0;34m!=\u001b[0m \u001b[0mself\u001b[0m\u001b[0;34m.\u001b[0m\u001b[0mN\u001b[0m\u001b[0;34m:\u001b[0m\u001b[0;34m\u001b[0m\u001b[0;34m\u001b[0m\u001b[0m\n\u001b[0m\u001b[1;32m    152\u001b[0m             raise ValueError('First dimension should be the number of nodes '\n\u001b[1;32m    153\u001b[0m                              'G.N = {}, got {}.'.format(self.N, s.shape))\n",
      "\u001b[0;31mIndexError\u001b[0m: tuple index out of range"
     ]
    }
   ],
   "source": [
    "lfc_cutoffs = np.arange(0.01,1,0.01)\n",
    "points = np.zeros_like(lfc_cutoffs)\n",
    "\n",
    "for p, lfc_cutoff in enumerate(lfc_cutoffs):\n",
    "    \n",
    "    lfc = np.zeros(len(folders))\n",
    "    lnkf = np.zeros(len(folders))\n",
    "\n",
    "    for index, folder in enumerate(folders):\n",
    "        G = G_dict[folder]\n",
    "        sequence = pickle.load(open('../data/regression_model/new_pdb/' + folder + '/sequence.p', 'rb'))\n",
    "#         signal = [amino_molecular_mass[s] for s in sequence]\n",
    "#         signal = G.d\n",
    "        signal = [amino_hydrophobicity[s] for s in sequence]\n",
    "#         signal = range(1, len(sequence)+1) -- MEaningless - Discuss\n",
    "#         residue_counts = collections.Counter(sequence)\n",
    "#         signal = [residue_counts[s] for s in sequence]\n",
    "        NX = NX_dict[folder]\n",
    "#         signal = nx.clustering(NX).values()\n",
    "        signal = np.array(signal)\n",
    "        signal_hat = G.gft(signal)\n",
    "        lfc[index] = np.sum(abs(signal_hat[G.e < G.lmax*lfc_cutoff])) / np.sum(abs(signal_hat))\n",
    "#         lnkf[index] = lnkf_values[folder.upper()]\n",
    "        lnkf[index] = nx.average_clustering(NX)\n",
    "    \n",
    "    points[p] = np.corrcoef(lfc, lnkf)[0,1]\n",
    "    \n",
    "print (np.max(points))\n",
    "print (lfc_cutoffs[np.argmax(points)])"
   ]
  },
  {
   "cell_type": "code",
   "execution_count": 27,
   "metadata": {},
   "outputs": [
    {
     "data": {
      "image/png": "[encoded data removed]",
      "text/plain": [
       "<Figure size 432x288 with 1 Axes>"
      ]
     },
     "metadata": {
      "needs_background": "light"
     },
     "output_type": "display_data"
    }
   ],
   "source": [
    "plt.plot(G.e, signal_hat)\n",
    "plt.show()\n",
    "# np.histogram(G.d)"
   ]
  },
  {
   "cell_type": "code",
   "execution_count": 28,
   "metadata": {},
   "outputs": [
    {
     "data": {
      "text/plain": [
       "52"
      ]
     },
     "execution_count": 28,
     "metadata": {},
     "output_type": "execute_result"
    }
   ],
   "source": [
    "len(folders)"
   ]
  },
  {
   "cell_type": "code",
   "execution_count": 112,
   "metadata": {},
   "outputs": [
    {
     "name": "stdout",
     "output_type": "stream",
     "text": [
      "0.8840338038682893\n",
      "0.8270498758835082\n",
      "0.9275807531114897\n",
      "0.9664340280564974\n",
      "0.916475494501068\n",
      "0.8961407277784491\n",
      "0.8341963155078641\n",
      "0.8679584903115527\n",
      "0.8680355675040025\n",
      "0.8489536938726371\n",
      "0.9229519968483676\n",
      "0.9598414490340742\n",
      "0.9630620393431801\n",
      "0.8025127471458601\n",
      "0.8418521504135505\n",
      "0.839094627252221\n",
      "0.9410050740241276\n",
      "0.9264108043878233\n",
      "0.9347684087676259\n",
      "0.9479879957147463\n",
      "0.887068800552406\n",
      "0.8957931178172233\n",
      "0.8650200393370583\n",
      "0.9138491011445912\n",
      "0.9157012974350416\n",
      "0.9413536068575968\n",
      "0.925760058090848\n",
      "0.8610021641896467\n",
      "0.911977143550148\n",
      "0.8605847449598584\n",
      "0.8497901406607896\n",
      "0.8740527320434157\n",
      "0.8506930722795552\n",
      "0.8347549507012327\n",
      "0.8760976257220934\n",
      "0.8106296708912764\n",
      "0.9030093221547513\n",
      "0.9291774035245204\n",
      "0.9495020576156208\n",
      "0.9180387622763075\n",
      "0.8316774902126319\n",
      "0.9247447703621152\n",
      "0.924231943126282\n",
      "0.905835649778908\n",
      "0.805028723966739\n",
      "0.8378455652968262\n",
      "0.8710722171015985\n",
      "0.8230922092156041\n",
      "0.8704130827903348\n",
      "0.9251282368662994\n",
      "0.8965735249449591\n",
      "0.8955093073206335\n"
     ]
    }
   ],
   "source": [
    "lfc_cutoff = 0.26\n",
    "for index, folder in enumerate(folders):\n",
    "    G = G_dict[folder]\n",
    "    sequence = pickle.load(open('../new_pdb/' + folder + '/sequence.p'))\n",
    "#     signal = [amino_molecular_mass[s] for s in sequence]\n",
    "#     signal = G.e\n",
    "#     signal = range(1, len(sequence)+1) -- MEaningless - Discuss\n",
    "#     residue_counts = collections.Counter(sequence)\n",
    "#     signal = [residue_counts[s] for s in sequence]\n",
    "    NX = NX_dict[folder]\n",
    "    signal = nx.clustering(NX).values()\n",
    "    signal = np.array(signal)\n",
    "    signal_hat = G.gft(signal)\n",
    "    print np.sum(abs(signal_hat[G.e < G.lmax*lfc_cutoff])) / np.sum(abs(signal_hat))"
   ]
  },
  {
   "cell_type": "code",
   "execution_count": 8,
   "metadata": {},
   "outputs": [],
   "source": [
    "# import numpy as np\n",
    "?np.argsort"
   ]
  }
 ],
 "metadata": {
  "kernelspec": {
   "display_name": "Python 2",
   "language": "python",
   "name": "python2"
  },
  "language_info": {
   "codemirror_mode": {
    "name": "ipython",
    "version": 3
   },
   "file_extension": ".py",
   "mimetype": "text/x-python",
   "name": "python",
   "nbconvert_exporter": "python",
   "pygments_lexer": "ipython3",
   "version": "3.8.2"
  }
 },
 "nbformat": 4,
 "nbformat_minor": 4
}
