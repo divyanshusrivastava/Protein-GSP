{
 "cells": [
  {
   "cell_type": "markdown",
   "metadata": {},
   "source": [
    "## List of features (signals)\n",
    "* hydrophobicity\n",
    "* molecular weight\n",
    "* node degree\n",
    "* node clustering coefficient\n",
    "* amino acid frequency"
   ]
  },
  {
   "cell_type": "code",
   "execution_count": 2,
   "metadata": {
    "jupyter": {
     "outputs_hidden": true
    }
   },
   "outputs": [],
   "source": [
    "import os\n",
    "import numpy as np\n",
    "from pygsp import graphs\n",
    "import pickle\n",
    "import csv\n",
    "import collections\n",
    "import networkx as nx\n",
    "import matplotlib.pyplot as plt"
   ]
  },
  {
   "cell_type": "code",
   "execution_count": 3,
   "metadata": {
    "jupyter": {
     "outputs_hidden": true
    }
   },
   "outputs": [
    {
     "ename": "FileNotFoundError",
     "evalue": "[Errno 2] No such file or directory: '../protein_data.csv'",
     "output_type": "error",
     "traceback": [
      "\u001b[0;31m---------------------------------------------------------------------------\u001b[0m",
      "\u001b[0;31mFileNotFoundError\u001b[0m                         Traceback (most recent call last)",
      "\u001b[0;32m<ipython-input-3-03ba1f2e68cf>\u001b[0m in \u001b[0;36m<module>\u001b[0;34m\u001b[0m\n\u001b[1;32m      7\u001b[0m        \u001b[0;34m'L'\u001b[0m\u001b[0;34m:\u001b[0m\u001b[0;36m131.17464\u001b[0m\u001b[0;34m,\u001b[0m\u001b[0;34m'K'\u001b[0m\u001b[0;34m:\u001b[0m\u001b[0;36m146.18934\u001b[0m\u001b[0;34m,\u001b[0m\u001b[0;34m'M'\u001b[0m\u001b[0;34m:\u001b[0m\u001b[0;36m149.20784\u001b[0m\u001b[0;34m,\u001b[0m\u001b[0;34m'F'\u001b[0m\u001b[0;34m:\u001b[0m\u001b[0;36m165.19184\u001b[0m\u001b[0;34m,\u001b[0m\u001b[0;34m'P'\u001b[0m\u001b[0;34m:\u001b[0m\u001b[0;36m115.13194\u001b[0m\u001b[0;34m,\u001b[0m\u001b[0;34m\u001b[0m\u001b[0;34m\u001b[0m\u001b[0m\n\u001b[1;32m      8\u001b[0m        'S':105.09344,'T':119.12034,'W':204.22844,'Y':181.19124,'V':117.14784}\n\u001b[0;32m----> 9\u001b[0;31m \u001b[0mreader\u001b[0m \u001b[0;34m=\u001b[0m \u001b[0mcsv\u001b[0m\u001b[0;34m.\u001b[0m\u001b[0mDictReader\u001b[0m\u001b[0;34m(\u001b[0m\u001b[0mopen\u001b[0m\u001b[0;34m(\u001b[0m\u001b[0;34m'../protein_data.csv'\u001b[0m\u001b[0;34m,\u001b[0m \u001b[0;34m'r'\u001b[0m\u001b[0;34m)\u001b[0m\u001b[0;34m)\u001b[0m\u001b[0;34m\u001b[0m\u001b[0;34m\u001b[0m\u001b[0m\n\u001b[0m\u001b[1;32m     10\u001b[0m \u001b[0mlnkf_values\u001b[0m \u001b[0;34m=\u001b[0m \u001b[0mdict\u001b[0m\u001b[0;34m(\u001b[0m\u001b[0;34m)\u001b[0m\u001b[0;34m\u001b[0m\u001b[0;34m\u001b[0m\u001b[0m\n\u001b[1;32m     11\u001b[0m \u001b[0;32mfor\u001b[0m \u001b[0mline\u001b[0m \u001b[0;32min\u001b[0m \u001b[0mreader\u001b[0m\u001b[0;34m:\u001b[0m\u001b[0;34m\u001b[0m\u001b[0;34m\u001b[0m\u001b[0m\n",
      "\u001b[0;31mFileNotFoundError\u001b[0m: [Errno 2] No such file or directory: '../protein_data.csv'"
     ]
    }
   ],
   "source": [
    "amino_hydrophobicity =  {'A': 1.8,'R':-4.5,'N':-3.5,'D':-3.5,'C': 2.5,\n",
    "       'Q':-3.5,'E':-3.5,'G':-0.4,'H':-3.2,'I': 4.5,\n",
    "       'L': 3.8,'K':-3.9,'M': 1.9,'F': 2.8,'P':-1.6,\n",
    "       'S':-0.8,'T':-0.7,'W':-0.9,'Y':-1.3,'V': 4.2 }\n",
    "amino_molecular_mass =  {'A': 89.09404,'R':174.20274,'N':132.11904,'D':133.10384,'C':121.15404 ,\n",
    "       'Q':146.14594,'E':147.13074,'G':75.06714,'H':155.15634,'I':131.17464,\n",
    "       'L':131.17464,'K':146.18934,'M':149.20784,'F':165.19184,'P':115.13194,\n",
    "       'S':105.09344,'T':119.12034,'W':204.22844,'Y':181.19124,'V':117.14784}\n",
    "reader = csv.DictReader(open('../protein_data.csv', 'r'))\n",
    "lnkf_values = dict()\n",
    "for line in reader:\n",
    "    lnkf_values[line['PDB ID']] = line['Ln (K_f)']  "
   ]
  },
  {
   "cell_type": "code",
   "execution_count": 82,
   "metadata": {},
   "outputs": [
    {
     "name": "stdout",
     "output_type": "stream",
     "text": [
      "1aey 1aps 1aye 1bdd 1brs 1c8c 1c9o 1cis 1coa 1csp 1div 1ebd 1enh 1fkb 1g6p 1hdn 1hrc 1hz6 1imq 1lmb 1lop 1mjc 1nyf 1pba 1pca 1pgb 1pin 1pks 1pnj 1poh 1ris 1shf 1shg 1srl 1ten 1tit 1ubq 1urn 1vii 1vik 1wit 1ycc 256b 2abd 2acy 2ait 2ci2 2hqi 2pdd 2ptl 2vik 3mef\n"
     ]
    }
   ],
   "source": [
    "## distance_cutoff = 7.3\n",
    "folders = sorted(os.listdir('../new_pdb/'))\n",
    "\n",
    "G_dict = dict()\n",
    "NX_dict = dict()\n",
    "\n",
    "for index, folder in enumerate(folders):\n",
    "    print folder, \n",
    "    n = np.asmatrix(np.loadtxt('../new_pdb/' + folder + '/distance_matrix.csv', delimiter=','))\n",
    "    n[n >= distance_cutoff] = 0\n",
    "\n",
    "    # taking |j-i| as weights\n",
    "    for i in range(np.shape(n)[0]):\n",
    "        for j in range(np.shape(n)[1]):\n",
    "            if n[i,j] > 0:\n",
    "                n[i,j] = abs(j-i)\n",
    "    \n",
    "    G = graphs.Graph(n)\n",
    "    G.compute_fourier_basis()\n",
    "    \n",
    "    G_dict[folder] = G\n",
    "    NX_dict[folder] = nx.Graph(n)\n"
   ]
  },
  {
   "cell_type": "code",
   "execution_count": 150,
   "metadata": {},
   "outputs": [
    {
     "name": "stdout",
     "output_type": "stream",
     "text": [
      "0.33239158678801023\n",
      "0.26\n"
     ]
    }
   ],
   "source": [
    "lfc_cutoffs = np.arange(0.01,1,0.01)\n",
    "points = np.zeros_like(lfc_cutoffs)\n",
    "\n",
    "for p, lfc_cutoff in enumerate(lfc_cutoffs):\n",
    "    \n",
    "    lfc = np.zeros(len(folders))\n",
    "    lnkf = np.zeros(len(folders))\n",
    "\n",
    "    for index, folder in enumerate(folders):\n",
    "        G = G_dict[folder]\n",
    "        sequence = pickle.load(open('../new_pdb/' + folder + '/sequence.p'))\n",
    "#         signal = [amino_molecular_mass[s] for s in sequence]\n",
    "        signal = G.d\n",
    "#         signal = range(1, len(sequence)+1) -- MEaningless - Discuss\n",
    "#         residue_counts = collections.Counter(sequence)\n",
    "#         signal = [residue_counts[s] for s in sequence]\n",
    "        NX = NX_dict[folder]\n",
    "#         signal = nx.clustering(NX).values()\n",
    "        signal = np.array(signal)\n",
    "        signal_hat = G.gft(signal)\n",
    "        lfc[index] = np.sum(abs(signal_hat[G.e < G.lmax*lfc_cutoff])) / np.sum(abs(signal_hat))\n",
    "#         lnkf[index] = lnkf_values[folder.upper()]\n",
    "        lnkf[index] = nx.average_clustering(NX)\n",
    "    \n",
    "    points[p] = np.corrcoef(lfc, lnkf)[0,1]\n",
    "    \n",
    "print np.max(points)\n",
    "print lfc_cutoffs[np.argmax(points)]"
   ]
  },
  {
   "cell_type": "code",
   "execution_count": 152,
   "metadata": {},
   "outputs": [
    {
     "data": {
      "image/png": "[encoded data removed]",
      "text/plain": [
       "<matplotlib.figure.Figure at 0x7f296c78f210>"
      ]
     },
     "metadata": {},
     "output_type": "display_data"
    }
   ],
   "source": [
    "plt.plot(G.e, signal_hat)\n",
    "plt.show()\n",
    "# np.histogram(G.d)"
   ]
  },
  {
   "cell_type": "code",
   "execution_count": 112,
   "metadata": {},
   "outputs": [
    {
     "name": "stdout",
     "output_type": "stream",
     "text": [
      "0.8840338038682893\n",
      "0.8270498758835082\n",
      "0.9275807531114897\n",
      "0.9664340280564974\n",
      "0.916475494501068\n",
      "0.8961407277784491\n",
      "0.8341963155078641\n",
      "0.8679584903115527\n",
      "0.8680355675040025\n",
      "0.8489536938726371\n",
      "0.9229519968483676\n",
      "0.9598414490340742\n",
      "0.9630620393431801\n",
      "0.8025127471458601\n",
      "0.8418521504135505\n",
      "0.839094627252221\n",
      "0.9410050740241276\n",
      "0.9264108043878233\n",
      "0.9347684087676259\n",
      "0.9479879957147463\n",
      "0.887068800552406\n",
      "0.8957931178172233\n",
      "0.8650200393370583\n",
      "0.9138491011445912\n",
      "0.9157012974350416\n",
      "0.9413536068575968\n",
      "0.925760058090848\n",
      "0.8610021641896467\n",
      "0.911977143550148\n",
      "0.8605847449598584\n",
      "0.8497901406607896\n",
      "0.8740527320434157\n",
      "0.8506930722795552\n",
      "0.8347549507012327\n",
      "0.8760976257220934\n",
      "0.8106296708912764\n",
      "0.9030093221547513\n",
      "0.9291774035245204\n",
      "0.9495020576156208\n",
      "0.9180387622763075\n",
      "0.8316774902126319\n",
      "0.9247447703621152\n",
      "0.924231943126282\n",
      "0.905835649778908\n",
      "0.805028723966739\n",
      "0.8378455652968262\n",
      "0.8710722171015985\n",
      "0.8230922092156041\n",
      "0.8704130827903348\n",
      "0.9251282368662994\n",
      "0.8965735249449591\n",
      "0.8955093073206335\n"
     ]
    }
   ],
   "source": [
    "lfc_cutoff = 0.26\n",
    "for index, folder in enumerate(folders):\n",
    "    G = G_dict[folder]\n",
    "    sequence = pickle.load(open('../new_pdb/' + folder + '/sequence.p'))\n",
    "#     signal = [amino_molecular_mass[s] for s in sequence]\n",
    "#     signal = G.e\n",
    "#     signal = range(1, len(sequence)+1) -- MEaningless - Discuss\n",
    "#     residue_counts = collections.Counter(sequence)\n",
    "#     signal = [residue_counts[s] for s in sequence]\n",
    "    NX = NX_dict[folder]\n",
    "    signal = nx.clustering(NX).values()\n",
    "    signal = np.array(signal)\n",
    "    signal_hat = G.gft(signal)\n",
    "    print np.sum(abs(signal_hat[G.e < G.lmax*lfc_cutoff])) / np.sum(abs(signal_hat))"
   ]
  },
  {
   "cell_type": "code",
   "execution_count": 8,
   "metadata": {},
   "outputs": [],
   "source": [
    "# import numpy as np\n",
    "?np.argsort"
   ]
  }
 ],
 "metadata": {
  "kernelspec": {
   "display_name": "Python 2",
   "language": "python",
   "name": "python2"
  },
  "language_info": {
   "codemirror_mode": {
    "name": "ipython",
    "version": 3
   },
   "file_extension": ".py",
   "mimetype": "text/x-python",
   "name": "python",
   "nbconvert_exporter": "python",
   "pygments_lexer": "ipython3",
   "version": "3.8.2"
  }
 },
 "nbformat": 4,
 "nbformat_minor": 4
}
